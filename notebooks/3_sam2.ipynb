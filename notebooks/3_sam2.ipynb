{
  "cells": [
    {
      "cell_type": "code",
      "execution_count": null,
      "id": "0037704e",
      "metadata": {
        "id": "0037704e"
      },
      "outputs": [],
      "source": [
        "# @title ⚙️ Setup\n",
        "# 7-8 min\n",
        "!git clone https://github.com/plana93/ARGO_Vision_CODEMOTION_2025.git\n",
        "!pip install -e ARGO_Vision_CODEMOTION_2025\n",
        "!pip install \"git+https://github.com/plana93/sam2.git\"\n",
        "!pip install -q ipympl ipywidgets"
      ]
    },
    {
      "cell_type": "code",
      "execution_count": null,
      "id": "901e61f0-10cd-441a-95eb-561808a68851",
      "metadata": {
        "id": "901e61f0-10cd-441a-95eb-561808a68851",
        "jupyter": {
          "source_hidden": true
        }
      },
      "outputs": [],
      "source": [
        "import os\n",
        "\n",
        "import sys\n",
        "sys.path.append(\"../\")\n",
        "sys.path.append(\"./ARGO_Vision_CODEMOTION_2025\")\n",
        "\n",
        "import torch\n",
        "from pathlib import Path\n",
        "import numpy as np\n",
        "from PIL import Image\n",
        "\n",
        "import matplotlib\n",
        "import matplotlib.pyplot as plt\n",
        "from matplotlib.widgets import Button\n",
        "\n",
        "from google.colab import output\n",
        "output.enable_custom_widget_manager()\n",
        "\n",
        "from codemotion2025.utils.download_image import download_image_from_url\n",
        "from codemotion2025.utils.sam_utils import show_mask, show_points, show_frame, save_binary_mask, resize_all_to_largest, show_annotation_preview, save_image\n",
        "from codemotion2025.utils.utils import print_shape\n",
        "\n",
        "from sam2.sam2_video_predictor import SAM2VideoPredictor\n",
        "from sam2.build_sam import build_sam2_video_predictor\n",
        "\n",
        "print(matplotlib.get_backend())"
      ]
    },
    {
      "cell_type": "code",
      "execution_count": null,
      "id": "51f20521-a7d1-44be-a0c5-f47a25506f71",
      "metadata": {
        "id": "51f20521-a7d1-44be-a0c5-f47a25506f71",
        "jupyter": {
          "source_hidden": true
        }
      },
      "outputs": [],
      "source": [
        "# @title 🤖 SAM2 Wrapper\n",
        "class SAM2PredictorWrapper:\n",
        "    def __init__(self, model_name=\"sam2-hiera-large\"):\n",
        "        self._predictor = SAM2VideoPredictor.from_pretrained(f\"facebook/{model_name}\")\n",
        "        self._folder_dir = None\n",
        "        self._frame_names = []\n",
        "        self._inference_state = None\n",
        "\n",
        "    def init_state(self, folder_dir: str, sort: bool = True):\n",
        "        self._folder_dir = folder_dir\n",
        "        self._frame_names = [p for p in os.listdir(folder_dir) if Path(p).suffix.lower() in {\".jpg\",\".jpeg\",\".png\",\".bmp\"}]\n",
        "        if sort:\n",
        "            self._frame_names.sort(key=lambda p: int(Path(p).stem.split(\"_\")[1]))\n",
        "\n",
        "        resize_all_to_largest(self._folder_dir, self._frame_names)\n",
        "        self._inference_state = self._predictor.init_state(video_path=self._folder_dir)\n",
        "        return self\n",
        "\n",
        "    def reset_state(self):\n",
        "        self._predictor.reset_state(self._inference_state)\n",
        "        return self\n",
        "\n",
        "    def get_img_name(self, idx: int) -> str :\n",
        "        return self._frame_names[idx]\n",
        "\n",
        "    def add_points(self, points, labels, obj_id=0, frame_idx=0, show=False):\n",
        "        points = np.array(points); labels = np.array(labels)\n",
        "        _, out_obj_ids, out_mask_logits = self._predictor.add_new_points_or_box(\n",
        "            inference_state=self._inference_state,\n",
        "            frame_idx=frame_idx,\n",
        "            obj_id=obj_id,\n",
        "            points=points,\n",
        "            labels=labels\n",
        "        )\n",
        "        if show:\n",
        "            show_frame(self._folder_dir, self._frame_names[frame_idx], frame_idx)\n",
        "            show_points(points, labels, plt.gca())\n",
        "            show_mask((out_mask_logits[0] > 0.0).cpu().numpy(), plt.gca(), obj_id=out_obj_ids[0])\n",
        "        return self\n",
        "\n",
        "    def add_points_batch(self, points_list, labels_list, obj_ids, frame_idxs, show=False):\n",
        "        \"\"\"Aggiunge più insiemi di punti a frame diversi.\"\"\"\n",
        "        for pts, lbls, obj_id, f_idx in zip(points_list, labels_list, obj_ids, frame_idxs):\n",
        "            self.add_points(pts, lbls, obj_id=obj_id, frame_idx=f_idx, show=show)\n",
        "        return self\n",
        "\n",
        "    def propagate(self, show_every_n_frames: int = 0, plot=True, save_masks=False):\n",
        "        video_segments = {}\n",
        "        for out_frame_idx, out_obj_ids, out_mask_logits in self._predictor.propagate_in_video(self._inference_state):\n",
        "            video_segments[out_frame_idx] = { out_obj_id: (out_mask_logits[i] > 0.0).cpu().numpy()\n",
        "                                             for i, out_obj_id in enumerate(out_obj_ids) }\n",
        "\n",
        "        if show_every_n_frames > 0 and plot:\n",
        "            plt.close(\"all\")\n",
        "            for idx in range(0, len(self._frame_names), show_every_n_frames):\n",
        "                if idx not in video_segments:\n",
        "                    continue\n",
        "                show_frame(self._folder_dir, self._frame_names[idx], idx)\n",
        "                for obj_id, mask in video_segments[idx].items():\n",
        "                    show_mask(mask, plt.gca(), obj_id=obj_id)\n",
        "\n",
        "        if save_masks:\n",
        "            masks_dir = Path(self._folder_dir) / \"masks\"\n",
        "            fg_dir = Path(self._folder_dir) / \"foreground\"\n",
        "            bg_dir = Path(self._folder_dir) / \"background\"\n",
        "            for d in [masks_dir, fg_dir, bg_dir]:\n",
        "                d.mkdir(parents=True, exist_ok=True)\n",
        "\n",
        "            for idx in range(0, len(self._frame_names), show_every_n_frames):\n",
        "                try:\n",
        "                    frame_path = Path(self._folder_dir) / self._frame_names[idx]\n",
        "                    img = np.array(Image.open(frame_path).convert(\"RGB\"))\n",
        "\n",
        "                    for obj_id, mask in video_segments[idx].items():\n",
        "                        mask = np.squeeze(mask)\n",
        "                        if mask.ndim > 2:\n",
        "                            mask = mask[..., 0]\n",
        "\n",
        "                        mask_bin = (mask > 0.5).astype(np.uint8)\n",
        "                        mask_3 = np.stack([mask_bin]*3, axis=-1)\n",
        "\n",
        "                        # Foreground & background\n",
        "                        fg = img * mask_3\n",
        "                        bg = img * (1 - mask_3)\n",
        "\n",
        "                        # Build filenames\n",
        "                        prefix = f\"{str(obj_id)}_{self._frame_names[idx]}\"\n",
        "\n",
        "                        save_image(mask_bin * 255, masks_dir / f\"mask_{prefix}.png\")\n",
        "                        save_image(fg, fg_dir / f\"fg_{prefix}.png\")\n",
        "                        save_image(bg, bg_dir / f\"bg_{prefix}.png\")\n",
        "\n",
        "                except KeyError:\n",
        "                    continue\n",
        "\n",
        "        return self"
      ]
    },
    {
      "cell_type": "code",
      "execution_count": null,
      "id": "044be2a5",
      "metadata": {
        "id": "044be2a5"
      },
      "outputs": [],
      "source": [
        "# @title 🤳🏼 Download Image from web or your laptop\n",
        "test_image = download_image_from_url()\n",
        "if test_image and os.path.exists(test_image):\n",
        "    print(f\"Using image file at: {test_image}\")\n",
        "else:\n",
        "    print(\"No valid image file is available.\")"
      ]
    },
    {
      "cell_type": "code",
      "execution_count": null,
      "id": "681d3cdc",
      "metadata": {
        "id": "681d3cdc"
      },
      "outputs": [],
      "source": [
        "## CONFIGURATION\n",
        "path_dataset = Path(test_image).parent\n",
        "idx_img = 0\n",
        "frame_offset = 1\n",
        "num_repetition_first_frame = 3\n"
      ]
    },
    {
      "cell_type": "code",
      "execution_count": null,
      "id": "cd8331b9-c99c-488c-ae7e-7f2a40fe9e6f",
      "metadata": {
        "id": "cd8331b9-c99c-488c-ae7e-7f2a40fe9e6f",
        "jupyter": {
          "source_hidden": true
        }
      },
      "outputs": [],
      "source": [
        "m = SAM2PredictorWrapper().init_state(str(path_dataset), sort=True)\n",
        "image_name = m.get_img_name(idx=idx_img)\n",
        "image_complete_path = Path(path_dataset) / image_name\n",
        "img = Image.open(image_complete_path).convert(\"RGB\")"
      ]
    },
    {
      "cell_type": "code",
      "execution_count": null,
      "id": "77a01416",
      "metadata": {
        "cellView": "form",
        "id": "77a01416",
        "jupyter": {
          "source_hidden": true
        }
      },
      "outputs": [],
      "source": [
        "# @title\n",
        "\n",
        "%matplotlib widget\n",
        "\n",
        "points = []\n",
        "obj_ids = []\n",
        "labels = []\n",
        "l_obj_ids = []\n",
        "\n",
        "current_points = []\n",
        "\n",
        "select_positive = True\n",
        "\n",
        "def onclick(event):\n",
        "    if event.inaxes == ax_img:  # click dentro l'immagine\n",
        "        x, y = int(event.xdata), int(event.ydata)\n",
        "        current_points.append([x, y])\n",
        "        cmap = plt.get_cmap(\"tab10\")  # choose a colormap\n",
        "        color = cmap(len(obj_ids))\n",
        "        ax_img.scatter(x, y, color=color)\n",
        "        fig.canvas.draw()\n",
        "\n",
        "def on_toggle(event):\n",
        "    global select_positive\n",
        "    select_positive = not select_positive\n",
        "    mode = \"Positive\" if select_positive else \"Negative\"\n",
        "    print(f\"Switched to {mode} point selection.\")\n",
        "\n",
        "def add_obj(event):\n",
        "    global current_points\n",
        "    if current_points:\n",
        "        points.append(current_points.copy())\n",
        "        obj_ids.append(len(obj_ids) + 1)\n",
        "        print(f\"Oggetto {obj_ids[-1]} salvato con {len(current_points)} punti.\")\n",
        "        current_points = []  # reset buffer for new obj\n",
        "    else:\n",
        "        print(\"Nessun punto selezionato per questo oggetto!\")\n",
        "\n",
        "def on_ok(event):\n",
        "    \"\"\"Conferma selezione e stampa risultato finale.\"\"\"\n",
        "    if current_points:\n",
        "        add_obj(None)\n",
        "\n",
        "    if not points:\n",
        "        print(\"Nessun oggetto creato! Seleziona punti e premi Add Obj.\")\n",
        "        return\n",
        "\n",
        "    print(\"\\n--- RESULTS ---\")\n",
        "    for i, obj in enumerate(points):\n",
        "        print(f\"Obj {obj_ids[i]} -> {obj}\")\n",
        "\n",
        "    fig.canvas.mpl_disconnect(cid_click)\n",
        "    plt.close(fig)\n",
        "    print(\"\\n Frame Annotated\")\n",
        "    for i, obj in enumerate(points):\n",
        "        print(f\"Obj {obj_ids[i]} -> {obj}\")\n",
        "        l_obj_ids.append(obj_ids[i])\n",
        "        labels.append([1]*len(obj))\n",
        "\n",
        "\n",
        "fig, ax = plt.subplots(1, 1, figsize=(8, 8))\n",
        "plt.subplots_adjust(bottom=0.3)\n",
        "\n",
        "ax_img = ax\n",
        "ax_img.imshow(img)\n",
        "ax_img.set_title(\"Click on the image to select points.\")\n",
        "\n",
        "ax_ok = plt.axes([0.7, 0.05, 0.1, 0.075])\n",
        "ax_toggle = plt.axes([0.33, 0.05, 0.2, 0.075])\n",
        "ax_add_obj = plt.axes([0.12, 0.05, 0.2, 0.075])\n",
        "\n",
        "btn_ok = Button(ax_ok, 'OK')\n",
        "btn_toggle = Button(ax_toggle, 'Switch Selection') # negative not used for now\n",
        "btn_add_obj = Button(ax_add_obj, 'Add Obj')\n",
        "\n",
        "# Eventi\n",
        "cid_click = fig.canvas.mpl_connect('button_press_event', onclick)\n",
        "btn_ok.on_clicked(on_ok)\n",
        "btn_toggle.on_clicked(on_toggle) # negative not used for now\n",
        "btn_add_obj.on_clicked(add_obj)\n",
        "\n",
        "plt.show()\n",
        "\n",
        "\n",
        "\n",
        "\n"
      ]
    },
    {
      "cell_type": "code",
      "execution_count": null,
      "id": "VNl7oiBZ9PmM",
      "metadata": {
        "id": "VNl7oiBZ9PmM"
      },
      "outputs": [],
      "source": [
        "frame_idxs = [idx_img] * len(l_obj_ids)\n",
        "print_shape(points=points, labels=labels, obj_ids=obj_ids, frame_idxs=frame_idxs)"
      ]
    },
    {
      "cell_type": "code",
      "execution_count": null,
      "id": "6iymUhiYXzS0",
      "metadata": {
        "id": "6iymUhiYXzS0"
      },
      "outputs": [],
      "source": [
        "# @title 🧑🏻‍💻 Manual annotation (no interaction)\n",
        "\n",
        "# --- Define manual points, labels, etc. ---\n",
        "\n",
        "points = [\n",
        "    [[810, 383], [758, 260], [788, 250]], # obj 1\n",
        "    [[359, 296], [253, 344],[389, 246], [420, 196], [420, 500]] # obj 2\n",
        "]\n",
        "\n",
        "labels = [\n",
        "    [1, 1, 1,],\n",
        "    [2, 2, 2, 2, 2]\n",
        "]\n",
        "\n",
        "l_obj_ids = [1, 2]\n",
        "frame_idxs = [idx_img] * len(l_obj_ids)\n",
        "show_annotation_preview(img, points, l_obj_ids, labels)\n"
      ]
    },
    {
      "cell_type": "code",
      "execution_count": null,
      "id": "f98a6319",
      "metadata": {
        "id": "f98a6319",
        "jupyter": {
          "source_hidden": true
        }
      },
      "outputs": [],
      "source": [
        "# @title 🎥 Propagation and Prediction\n",
        "# 5-10 min\n",
        "# reset the predictor state\n",
        "m = m.reset_state()\n",
        "\n",
        "# add initial user points multiple times on the first frame\n",
        "for _ in range(num_repetition_first_frame):\n",
        "    m = m.add_points_batch(\n",
        "        points_list=points,\n",
        "        labels_list=labels,\n",
        "        obj_ids=l_obj_ids,\n",
        "        frame_idxs=[idx_img] * len(l_obj_ids),\n",
        "        show=False,\n",
        "    )\n",
        "\n",
        "# propagate segmentation across the images\n",
        "m = m.propagate(show_every_n_frames=frame_offset, plot=True, save_masks=True)"
      ]
    },
    {
      "cell_type": "code",
      "metadata": {
        "id": "cd0d3ae9"
      },
      "source": [
        "# @title 💾 Save the output on your drive\n",
        "\n",
        "from google.colab import drive\n",
        "import shutil\n",
        "\n",
        "# Mount Google Drive\n",
        "drive.mount('/content/drive')\n",
        "output_folder = \"/content/downloads\"\n",
        "\n",
        "# Define the destination path in your Google Drive\n",
        "# You can change 'My Drive/output_sam2' to your desired location\n",
        "destination_path = '/content/drive/My Drive/output_sam2'\n",
        "os.makedirs(destination_path, exist_ok=True)\n",
        "try:\n",
        "    shutil.copytree(output_folder, destination_path, dirs_exist_ok=True)\n",
        "    print(f\"Successfully copied '{output_folder}' to '{destination_path}'\")\n",
        "except Exception as e:\n",
        "    print(f\"Error copying folder: {e}\")"
      ],
      "id": "cd0d3ae9",
      "execution_count": null,
      "outputs": []
    }
  ],
  "metadata": {
    "colab": {
      "provenance": [],
      "toc_visible": true
    },
    "kernelspec": {
      "display_name": ".venv",
      "language": "python",
      "name": "python3"
    },
    "language_info": {
      "codemirror_mode": {
        "name": "ipython",
        "version": 3
      },
      "file_extension": ".py",
      "mimetype": "text/x-python",
      "name": "python",
      "nbconvert_exporter": "python",
      "pygments_lexer": "ipython3",
      "version": "3.10.13"
    }
  },
  "nbformat": 4,
  "nbformat_minor": 5
}